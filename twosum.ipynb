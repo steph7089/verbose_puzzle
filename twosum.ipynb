{
  "nbformat": 4,
  "nbformat_minor": 0,
  "metadata": {
    "colab": {
      "provenance": []
    },
    "kernelspec": {
      "name": "python3",
      "display_name": "Python 3"
    },
    "language_info": {
      "name": "python"
    }
  },
  "cells": [
    {
      "cell_type": "markdown",
      "source": [],
      "metadata": {
        "id": "2unEwxzjHokE"
      }
    },
    {
      "cell_type": "markdown",
      "source": [
        "# TWO SUM"
      ],
      "metadata": {
        "id": "EFfmJX42JTfi"
      }
    },
    {
      "cell_type": "markdown",
      "source": [
        "Given an array of integers nums and an integer target, return indices of the two numbers such that they add up to target.\n",
        "\n",
        "You may assume that each input would have exactly one solution, and you may not use the same element twice.\n",
        "\n",
        "You can return the answer in any order.\n",
        "\n",
        "\n",
        "\n",
        "Example 1:\n",
        "\n",
        "Input: nums = [2,7,11,15], target = 9\n",
        "Output: [0,1]\n",
        "Explanation: Because nums[0] + nums[1] == 9, we return [0, 1].\n",
        "Example 2:\n",
        "\n",
        "Input: nums = [3,2,4], target = 6\n",
        "Output: [1,2]\n",
        "Example 3:\n",
        "\n",
        "Input: nums = [3,3], target = 6\n",
        "Output: [0,1]\n"
      ],
      "metadata": {
        "id": "gB62K11IH5hE"
      }
    },
    {
      "cell_type": "code",
      "source": [
        "class Solution(object):\n",
        "    def __init__(self):\n",
        "        \"\"\"\n",
        "        Constructor for the Solution class. Initializes two instance variables:\n",
        "           - nums: To store the list of numbers provided by the user.\n",
        "           - target: To store the target value the user wants to find pairs for.\n",
        "        \"\"\"\n",
        "        self.nums = None\n",
        "        self.target = None\n",
        "\n",
        "    def get_input(self):\n",
        "        \"\"\"\n",
        "        Gets input from the user.\n",
        "           1. Prompts the user to enter a space-separated list of integers.\n",
        "           2. Converts the input string into a list of integers and stores it in the 'nums' instance variable.\n",
        "           3. Prompts the user to enter the target value and stores it in the 'target' instance variable.\n",
        "        \"\"\"\n",
        "        input_str = input(\"Enter a list of integers separated by spaces: \")\n",
        "        self.nums = [int(x) for x in input_str.split()]\n",
        "        self.target = int(input(\"Enter the target value: \"))\n",
        "\n",
        "    def compute_two_sum(self):\n",
        "        \"\"\"\n",
        "        Finds pairs of numbers in the 'nums' list that add up to the 'target' value.\n",
        "        Uses the two-pointer technique for efficiency.\n",
        "\n",
        "        Returns: A list of unique pairs (as tuples) that sum up to the target.\n",
        "        \"\"\"\n",
        "        nums = self.nums\n",
        "        target = self.target\n",
        "\n",
        "        nums.sort()  # Sort the list for efficient searching\n",
        "        found_pairs = []  # List to store the found pairs\n",
        "        seen_pairs = set()  # Set to keep track of unique pairs\n",
        "\n",
        "        # Two-pointer loop:\n",
        "        for left in range(len(nums) - 1):  # Iterate with 'left' starting from the beginning\n",
        "            right = len(nums) - 1  # Initialize 'right' to the end of the list\n",
        "            while left < right:\n",
        "                current_sum = nums[left] + nums[right]\n",
        "                if current_sum == target:\n",
        "                    # A pair is found!\n",
        "                    pair = tuple(sorted((nums[left], nums[right])))  # Sort for consistent order\n",
        "                    if pair not in seen_pairs:  # Check if it's a unique pair\n",
        "                        found_pairs.append(pair)\n",
        "                        seen_pairs.add(pair)\n",
        "                    left += 1   # Move the left pointer to explore other potential pairs\n",
        "                    right -= 1  # Move the right pointer backward\n",
        "                elif current_sum < target:\n",
        "                    # Sum is too small, move the 'left' pointer forward\n",
        "                    left += 1\n",
        "                else:\n",
        "                    # Sum is too large, move the 'right' pointer backward\n",
        "                    right -= 1\n",
        "\n",
        "        return found_pairs\n",
        "\n",
        "    def display_results(self, found_pairs):\n",
        "        \"\"\"\n",
        "        Prints the results of the pair search.\n",
        "        \"\"\"\n",
        "        if found_pairs:\n",
        "            print(f\"We found {len(found_pairs)} options:\")\n",
        "            for i, pair in enumerate(found_pairs):\n",
        "                print(f\"Option {i+1}: {pair[0]} + {pair[1]} = {self.target} (which is the target)\")\n",
        "        else:\n",
        "            print(\"No solution found\")\n",
        "\n",
        "# Using the class\n",
        "if __name__ == \"__main__\":\n",
        "    solution = Solution()  # Create an object of the Solution class\n",
        "    solution.get_input()   # Get the input from the user\n",
        "    found_pairs = solution.compute_two_sum()  # Find the pairs\n",
        "    solution.display_results(found_pairs)  # Display the results\n"
      ],
      "metadata": {
        "colab": {
          "base_uri": "https://localhost:8080/"
        },
        "id": "5o2RCWxVHkle",
        "outputId": "54c6250c-b4a5-4d09-ae66-6cdf952ce6c0"
      },
      "execution_count": null,
      "outputs": [
        {
          "output_type": "stream",
          "name": "stdout",
          "text": [
            "Enter a list of integers separated by spaces: 1 2 3 4 5 6 7 8 9\n",
            "Enter the target value: 5\n",
            "We found 2 options:\n",
            "Option 1: 1 + 4 = 5 (which is the target)\n",
            "Option 2: 2 + 3 = 5 (which is the target)\n"
          ]
        }
      ]
    },
    {
      "cell_type": "code",
      "source": [],
      "metadata": {
        "id": "SmV1TAkZd-zj"
      },
      "execution_count": null,
      "outputs": []
    }
  ]
}