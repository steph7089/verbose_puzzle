{
  "nbformat": 4,
  "nbformat_minor": 0,
  "metadata": {
    "colab": {
      "provenance": [],
      "authorship_tag": "ABX9TyOYXv6aKp9JuUgGeJgTjHAZ",
      "include_colab_link": true
    },
    "kernelspec": {
      "name": "python3",
      "display_name": "Python 3"
    },
    "language_info": {
      "name": "python"
    }
  },
  "cells": [
    {
      "cell_type": "markdown",
      "metadata": {
        "id": "view-in-github",
        "colab_type": "text"
      },
      "source": [
        "<a href=\"https://colab.research.google.com/github/steph7089/verbose_puzzle/blob/main/addTwoNumber.ipynb\" target=\"_parent\"><img src=\"https://colab.research.google.com/assets/colab-badge.svg\" alt=\"Open In Colab\"/></a>"
      ]
    },
    {
      "cell_type": "code",
      "execution_count": 10,
      "metadata": {
        "colab": {
          "base_uri": "https://localhost:8080/"
        },
        "id": "7QvscDl2eLXU",
        "outputId": "6dfa7693-3ff5-48b6-d586-3af96ce936c5"
      },
      "outputs": [
        {
          "output_type": "stream",
          "name": "stdout",
          "text": [
            "Enter the first positive integer: 230\n",
            "Enter the second positive integer: 540\n",
            "list_1: [0, 3, 2]\n",
            "list_2: [0, 4, 5]\n",
            "result_before_reverse: 77\n",
            "final_reversed_result: 770\n"
          ]
        }
      ],
      "source": [
        "class ListNode:\n",
        "    def __init__(self, val=0, next=None):\n",
        "        self.val = val\n",
        "        self.next = next\n",
        "\n",
        "''' Definition: Defines a ListNode class which acts as a building block for your linked list.\n",
        "__init__(self, val=0, next=None): The constructor method.\n",
        "val: Stores the numeric value of the node. Defaults to 0.\n",
        "next: A reference to the next node in the linked list. Defaults to None. '''\n",
        "\n",
        "def addTwoNumbers(list_1, list_2):\n",
        "    head = ListNode()\n",
        "    current = head\n",
        "    carry = 0\n",
        "\n",
        "    while list_1 or list_2 or carry:\n",
        "        list_1_value = list_1.val if list_1 else 0\n",
        "        list_2_value = list_2.val if list_2 else 0\n",
        "\n",
        "        total = list_1_value + list_2_value + carry\n",
        "        current.next = ListNode(total % 10)\n",
        "        carry = total // 10\n",
        "\n",
        "        list_1 = list_1.next if list_1 else None\n",
        "        list_2 = list_2.next if list_2 else None\n",
        "        current = current.next\n",
        "\n",
        "    return head.next\n",
        "\n",
        "'''\n",
        "Logic: This is the core function. It takes two linked lists, list_1 and list_2,\n",
        "and adds them together, returning a new linked list representing the sum.\n",
        "Steps:\n",
        "Creates a dummy head node for the result linked list.\n",
        "Initializes carry to 0.\n",
        "Iterates while either list has remaining nodes or there's a carry-over:\n",
        "Extracts values from both lists, using 0 if a list is exhausted.\n",
        "Calculates the sum for the current digit position, including the carry.\n",
        "Creates a new node in the result list with the unit digit of the sum.\n",
        "Calculates the new carry value.\n",
        "Moves the pointers in list_1, list_2, and the result list to the next positions.\n",
        "Returns the head of the resultant linked list. '''\n",
        "\n",
        "def create_linked_list(digits):\n",
        "    head = ListNode(digits[0])\n",
        "    current = head\n",
        "    for digit in digits[1:]:\n",
        "        current.next = ListNode(digit)\n",
        "        current = current.next\n",
        "    return head\n",
        "\n",
        "''' Purpose: Takes a list of digits and creates a linked list.'''\n",
        "\n",
        "\n",
        "# Prompt user for two positive integers\n",
        "num_1 = int(input(\"Enter the first positive integer: \"))\n",
        "num_2 = int(input(\"Enter the second positive integer: \"))\n",
        "\n",
        "# Transform the integers into lists of single digits in reversed order\n",
        "list_1 = [int(d) for d in str(num_1)][::-1]\n",
        "list_2 = [int(d) for d in str(num_2)][::-1]\n",
        "\n",
        "# Print the lists (for verification, optional)\n",
        "print(\"list_1:\", list_1)\n",
        "print(\"list_2:\", list_2)\n",
        "\n",
        "# Convert to linked lists\n",
        "list_1 = create_linked_list(list_1)\n",
        "list_2 = create_linked_list(list_2)\n",
        "\n",
        "# Calculate the sum\n",
        "result_head = addTwoNumbers(list_1, list_2)\n",
        "\n",
        "# Collect digits into a list\n",
        "nodes_list_result = []  # Create an empty list\n",
        "result_node = result_head\n",
        "while result_node:\n",
        "    nodes_list_result.append(result_node.val)\n",
        "    result_node = result_node.next\n",
        "\n",
        "# Convert the list of digits to an integer (assuming digits are in the correct order)\n",
        "result_before_reverse = int(''.join(str(x) for x in nodes_list_result))\n",
        "print(\"result_before_reverse:\", result_before_reverse)\n",
        "\n",
        "# Reverse the list of digits\n",
        "nodes_list_result.reverse()\n",
        "\n",
        "# Convert the reversed list of digits to an integer\n",
        "final_reversed_result = int(''.join(str(x) for x in nodes_list_result))\n",
        "print(\"final_reversed_result:\", final_reversed_result)\n"
      ]
    },
    {
      "cell_type": "markdown",
      "source": [],
      "metadata": {
        "id": "wu_GJf5y0LRm"
      }
    }
  ]
}